{
 "cells": [
  {
   "cell_type": "code",
   "execution_count": 1,
   "metadata": {},
   "outputs": [
    {
     "name": "stderr",
     "output_type": "stream",
     "text": [
      "/Library/Python/3.7/site-packages/tqdm/auto.py:21: TqdmWarning: IProgress not found. Please update jupyter and ipywidgets. See https://ipywidgets.readthedocs.io/en/stable/user_install.html\n",
      "  from .autonotebook import tqdm as notebook_tqdm\n",
      "/Library/Python/3.7/site-packages/urllib3/__init__.py:38: NotOpenSSLWarning: urllib3 v2.0 only supports OpenSSL 1.1.1+, currently the 'ssl' module is compiled with 'LibreSSL 2.8.3'. See: https://github.com/urllib3/urllib3/issues/3020\n",
      "  exceptions.NotOpenSSLWarning,\n"
     ]
    }
   ],
   "source": [
    "import torch\n",
    "import numpy as np\n",
    "import torch.nn as nn\n",
    "import matplotlib.pyplot as plt\n",
    "from torchvision.datasets import MNIST\n",
    "from torch.utils.data import DataLoader\n",
    "import torchvision.transforms as transforms\n",
    "from mpl_toolkits.axes_grid1 import ImageGrid\n",
    "from torchvision.utils import save_image, make_grid"
   ]
  },
  {
   "cell_type": "code",
   "execution_count": 2,
   "metadata": {},
   "outputs": [],
   "source": [
    "# create a transofrm to apply to each datapoint\n",
    "transform = transforms.Compose([transforms.ToTensor()])\n",
    "\n",
    "# download the MNIST datasets\n",
    "path = './datasets'\n",
    "train_dataset = MNIST(path, transform=transform, download=True)\n",
    "test_dataset  = MNIST(path, transform=transform, download=True)\n",
    "\n",
    "device = torch.device(\"cuda\" if torch.cuda.is_available() else \"cpu\")"
   ]
  },
  {
   "cell_type": "code",
   "execution_count": 3,
   "metadata": {},
   "outputs": [],
   "source": [
    "# create train and test dataloaders\n",
    "batch_size = 128\n",
    "train_loader = DataLoader(dataset=train_dataset, batch_size=batch_size, shuffle=True)\n",
    "test_loader = DataLoader(dataset=test_dataset, batch_size=batch_size, shuffle=False)"
   ]
  },
  {
   "cell_type": "code",
   "execution_count": 4,
   "metadata": {},
   "outputs": [
    {
     "data": {
      "text/plain": [
       "<matplotlib.image.AxesImage at 0x119e602e8>"
      ]
     },
     "execution_count": 4,
     "metadata": {},
     "output_type": "execute_result"
    },
    {
     "data": {
      "text/plain": [
       "(-0.5, 27.5, 27.5, -0.5)"
      ]
     },
     "execution_count": 4,
     "metadata": {},
     "output_type": "execute_result"
    },
    {
     "data": {
      "text/plain": [
       "<matplotlib.image.AxesImage at 0x119e607f0>"
      ]
     },
     "execution_count": 4,
     "metadata": {},
     "output_type": "execute_result"
    },
    {
     "data": {
      "text/plain": [
       "(-0.5, 27.5, 27.5, -0.5)"
      ]
     },
     "execution_count": 4,
     "metadata": {},
     "output_type": "execute_result"
    },
    {
     "data": {
      "text/plain": [
       "<matplotlib.image.AxesImage at 0x119e60da0>"
      ]
     },
     "execution_count": 4,
     "metadata": {},
     "output_type": "execute_result"
    },
    {
     "data": {
      "text/plain": [
       "(-0.5, 27.5, 27.5, -0.5)"
      ]
     },
     "execution_count": 4,
     "metadata": {},
     "output_type": "execute_result"
    },
    {
     "data": {
      "text/plain": [
       "<matplotlib.image.AxesImage at 0x10a158d68>"
      ]
     },
     "execution_count": 4,
     "metadata": {},
     "output_type": "execute_result"
    },
    {
     "data": {
      "text/plain": [
       "(-0.5, 27.5, 27.5, -0.5)"
      ]
     },
     "execution_count": 4,
     "metadata": {},
     "output_type": "execute_result"
    },
    {
     "data": {
      "image/png": "[encoded data removed]",
      "text/plain": [
       "<Figure size 200x200 with 8 Axes>"
      ]
     },
     "metadata": {},
     "output_type": "display_data"
    }
   ],
   "source": [
    "# get 25 sample training images for visualization\n",
    "image = next(iter(train_loader))\n",
    "\n",
    "num_samples = 4\n",
    "width = int(num_samples**0.5)\n",
    "sample_images = [image[0][i,0] for i in range(num_samples)] \n",
    "\n",
    "fig = plt.figure(figsize=(width, width))\n",
    "grid = ImageGrid(fig, 111, nrows_ncols=(width, width), axes_pad=0.1)\n",
    "\n",
    "for ax, im in zip(grid, sample_images):\n",
    "    ax.imshow(im, cmap='gray')\n",
    "    ax.axis('off')\n",
    "\n",
    "plt.show()"
   ]
  },
  {
   "cell_type": "code",
   "execution_count": 5,
   "metadata": {},
   "outputs": [],
   "source": [
    "from vq_vae import train_model"
   ]
  },
  {
   "cell_type": "code",
   "execution_count": 6,
   "metadata": {},
   "outputs": [
    {
     "name": "stdout",
     "output_type": "stream",
     "text": [
      "Epoch: 1/15, Batch: 0, Total loss: 0.74, Recon loss: 0.46, Codebook loss: 0.23, Commitment loss: 0.23\n",
      "Epoch: 1/15, Batch: 100, Total loss: 0.29, Recon loss: 0.11, Codebook loss: 0.15, Commitment loss: 0.15\n",
      "Epoch: 1/15, Batch: 200, Total loss: 0.20, Recon loss: 0.07, Codebook loss: 0.11, Commitment loss: 0.11\n",
      "Epoch: 1/15, Batch: 300, Total loss: 0.15, Recon loss: 0.05, Codebook loss: 0.08, Commitment loss: 0.08\n",
      "Epoch: 1/15, Batch: 400, Total loss: 0.12, Recon loss: 0.05, Codebook loss: 0.06, Commitment loss: 0.06\n",
      "Epoch: 1/15, Total loss: 0.11, Recon loss: 0.05, Codebook loss: 0.05, Commitment loss: 0.05\n",
      "Epoch: 2/15, Batch: 0, Total loss: 0.11, Recon loss: 0.04, Codebook loss: 0.05, Commitment loss: 0.05\n",
      "Epoch: 2/15, Batch: 100, Total loss: 0.10, Recon loss: 0.04, Codebook loss: 0.05, Commitment loss: 0.05\n",
      "Epoch: 2/15, Batch: 200, Total loss: 0.10, Recon loss: 0.04, Codebook loss: 0.05, Commitment loss: 0.05\n",
      "Epoch: 2/15, Batch: 300, Total loss: 0.10, Recon loss: 0.04, Codebook loss: 0.05, Commitment loss: 0.05\n",
      "Epoch: 2/15, Batch: 400, Total loss: 0.11, Recon loss: 0.04, Codebook loss: 0.06, Commitment loss: 0.06\n",
      "Epoch: 2/15, Total loss: 0.05, Recon loss: 0.02, Codebook loss: 0.03, Commitment loss: 0.03\n",
      "Epoch: 3/15, Batch: 0, Total loss: 0.11, Recon loss: 0.03, Codebook loss: 0.06, Commitment loss: 0.06\n",
      "Epoch: 3/15, Batch: 100, Total loss: 0.13, Recon loss: 0.03, Codebook loss: 0.08, Commitment loss: 0.08\n",
      "Epoch: 3/15, Batch: 200, Total loss: 0.13, Recon loss: 0.03, Codebook loss: 0.08, Commitment loss: 0.08\n",
      "Epoch: 3/15, Batch: 300, Total loss: 0.14, Recon loss: 0.03, Codebook loss: 0.09, Commitment loss: 0.09\n",
      "Epoch: 3/15, Batch: 400, Total loss: 0.13, Recon loss: 0.03, Codebook loss: 0.09, Commitment loss: 0.09\n",
      "Epoch: 3/15, Total loss: 0.07, Recon loss: 0.02, Codebook loss: 0.04, Commitment loss: 0.04\n",
      "Epoch: 4/15, Batch: 0, Total loss: 0.14, Recon loss: 0.03, Codebook loss: 0.09, Commitment loss: 0.09\n",
      "Epoch: 4/15, Batch: 100, Total loss: 0.14, Recon loss: 0.03, Codebook loss: 0.09, Commitment loss: 0.09\n",
      "Epoch: 4/15, Batch: 200, Total loss: 0.14, Recon loss: 0.03, Codebook loss: 0.09, Commitment loss: 0.09\n",
      "Epoch: 4/15, Batch: 300, Total loss: 0.14, Recon loss: 0.03, Codebook loss: 0.09, Commitment loss: 0.09\n",
      "Epoch: 4/15, Batch: 400, Total loss: 0.14, Recon loss: 0.03, Codebook loss: 0.09, Commitment loss: 0.09\n",
      "Epoch: 4/15, Total loss: 0.07, Recon loss: 0.02, Codebook loss: 0.05, Commitment loss: 0.05\n",
      "Epoch: 5/15, Batch: 0, Total loss: 0.13, Recon loss: 0.03, Codebook loss: 0.08, Commitment loss: 0.08\n",
      "Epoch: 5/15, Batch: 100, Total loss: 0.13, Recon loss: 0.03, Codebook loss: 0.08, Commitment loss: 0.08\n",
      "Epoch: 5/15, Batch: 200, Total loss: 0.13, Recon loss: 0.03, Codebook loss: 0.08, Commitment loss: 0.08\n",
      "Epoch: 5/15, Batch: 300, Total loss: 0.13, Recon loss: 0.03, Codebook loss: 0.08, Commitment loss: 0.08\n",
      "Epoch: 5/15, Batch: 400, Total loss: 0.13, Recon loss: 0.03, Codebook loss: 0.08, Commitment loss: 0.08\n",
      "Epoch: 5/15, Total loss: 0.06, Recon loss: 0.01, Codebook loss: 0.04, Commitment loss: 0.04\n",
      "Epoch: 6/15, Batch: 0, Total loss: 0.13, Recon loss: 0.03, Codebook loss: 0.08, Commitment loss: 0.08\n",
      "Epoch: 6/15, Batch: 100, Total loss: 0.12, Recon loss: 0.03, Codebook loss: 0.08, Commitment loss: 0.08\n",
      "Epoch: 6/15, Batch: 200, Total loss: 0.12, Recon loss: 0.03, Codebook loss: 0.08, Commitment loss: 0.08\n",
      "Epoch: 6/15, Batch: 300, Total loss: 0.12, Recon loss: 0.03, Codebook loss: 0.08, Commitment loss: 0.08\n",
      "Epoch: 6/15, Batch: 400, Total loss: 0.12, Recon loss: 0.03, Codebook loss: 0.08, Commitment loss: 0.08\n",
      "Epoch: 6/15, Total loss: 0.06, Recon loss: 0.01, Codebook loss: 0.04, Commitment loss: 0.04\n",
      "Epoch: 7/15, Batch: 0, Total loss: 0.12, Recon loss: 0.03, Codebook loss: 0.07, Commitment loss: 0.07\n",
      "Epoch: 7/15, Batch: 100, Total loss: 0.12, Recon loss: 0.03, Codebook loss: 0.07, Commitment loss: 0.07\n",
      "Epoch: 7/15, Batch: 200, Total loss: 0.12, Recon loss: 0.03, Codebook loss: 0.07, Commitment loss: 0.07\n",
      "Epoch: 7/15, Batch: 300, Total loss: 0.11, Recon loss: 0.03, Codebook loss: 0.07, Commitment loss: 0.07\n",
      "Epoch: 7/15, Batch: 400, Total loss: 0.11, Recon loss: 0.03, Codebook loss: 0.07, Commitment loss: 0.07\n",
      "Epoch: 7/15, Total loss: 0.06, Recon loss: 0.01, Codebook loss: 0.04, Commitment loss: 0.04\n",
      "Epoch: 8/15, Batch: 0, Total loss: 0.11, Recon loss: 0.03, Codebook loss: 0.07, Commitment loss: 0.07\n",
      "Epoch: 8/15, Batch: 100, Total loss: 0.11, Recon loss: 0.03, Codebook loss: 0.07, Commitment loss: 0.07\n",
      "Epoch: 8/15, Batch: 200, Total loss: 0.11, Recon loss: 0.03, Codebook loss: 0.07, Commitment loss: 0.07\n",
      "Epoch: 8/15, Batch: 300, Total loss: 0.11, Recon loss: 0.03, Codebook loss: 0.07, Commitment loss: 0.07\n",
      "Epoch: 8/15, Batch: 400, Total loss: 0.11, Recon loss: 0.03, Codebook loss: 0.07, Commitment loss: 0.07\n",
      "Epoch: 8/15, Total loss: 0.05, Recon loss: 0.01, Codebook loss: 0.03, Commitment loss: 0.03\n",
      "Epoch: 9/15, Batch: 0, Total loss: 0.10, Recon loss: 0.03, Codebook loss: 0.07, Commitment loss: 0.07\n",
      "Epoch: 9/15, Batch: 100, Total loss: 0.10, Recon loss: 0.03, Codebook loss: 0.07, Commitment loss: 0.07\n",
      "Epoch: 9/15, Batch: 200, Total loss: 0.10, Recon loss: 0.03, Codebook loss: 0.06, Commitment loss: 0.06\n",
      "Epoch: 9/15, Batch: 300, Total loss: 0.10, Recon loss: 0.03, Codebook loss: 0.06, Commitment loss: 0.06\n",
      "Epoch: 9/15, Batch: 400, Total loss: 0.10, Recon loss: 0.03, Codebook loss: 0.06, Commitment loss: 0.06\n",
      "Epoch: 9/15, Total loss: 0.05, Recon loss: 0.01, Codebook loss: 0.03, Commitment loss: 0.03\n",
      "Epoch: 10/15, Batch: 0, Total loss: 0.10, Recon loss: 0.02, Codebook loss: 0.06, Commitment loss: 0.06\n",
      "Epoch: 10/15, Batch: 100, Total loss: 0.10, Recon loss: 0.03, Codebook loss: 0.06, Commitment loss: 0.06\n",
      "Epoch: 10/15, Batch: 200, Total loss: 0.10, Recon loss: 0.02, Codebook loss: 0.06, Commitment loss: 0.06\n",
      "Epoch: 10/15, Batch: 300, Total loss: 0.10, Recon loss: 0.03, Codebook loss: 0.06, Commitment loss: 0.06\n",
      "Epoch: 10/15, Batch: 400, Total loss: 0.10, Recon loss: 0.02, Codebook loss: 0.06, Commitment loss: 0.06\n",
      "Epoch: 10/15, Total loss: 0.05, Recon loss: 0.01, Codebook loss: 0.03, Commitment loss: 0.03\n",
      "Epoch: 11/15, Batch: 0, Total loss: 0.10, Recon loss: 0.03, Codebook loss: 0.06, Commitment loss: 0.06\n",
      "Epoch: 11/15, Batch: 100, Total loss: 0.10, Recon loss: 0.02, Codebook loss: 0.06, Commitment loss: 0.06\n",
      "Epoch: 11/15, Batch: 200, Total loss: 0.10, Recon loss: 0.02, Codebook loss: 0.06, Commitment loss: 0.06\n",
      "Epoch: 11/15, Batch: 300, Total loss: 0.09, Recon loss: 0.02, Codebook loss: 0.06, Commitment loss: 0.06\n",
      "Epoch: 11/15, Batch: 400, Total loss: 0.10, Recon loss: 0.02, Codebook loss: 0.06, Commitment loss: 0.06\n",
      "Epoch: 11/15, Total loss: 0.05, Recon loss: 0.01, Codebook loss: 0.03, Commitment loss: 0.03\n",
      "Epoch: 12/15, Batch: 0, Total loss: 0.10, Recon loss: 0.03, Codebook loss: 0.06, Commitment loss: 0.06\n",
      "Epoch: 12/15, Batch: 100, Total loss: 0.10, Recon loss: 0.02, Codebook loss: 0.06, Commitment loss: 0.06\n",
      "Epoch: 12/15, Batch: 200, Total loss: 0.09, Recon loss: 0.02, Codebook loss: 0.06, Commitment loss: 0.06\n",
      "Epoch: 12/15, Batch: 300, Total loss: 0.09, Recon loss: 0.02, Codebook loss: 0.06, Commitment loss: 0.06\n",
      "Epoch: 12/15, Batch: 400, Total loss: 0.09, Recon loss: 0.02, Codebook loss: 0.06, Commitment loss: 0.06\n",
      "Epoch: 12/15, Total loss: 0.05, Recon loss: 0.01, Codebook loss: 0.03, Commitment loss: 0.03\n",
      "Epoch: 13/15, Batch: 0, Total loss: 0.09, Recon loss: 0.02, Codebook loss: 0.06, Commitment loss: 0.06\n",
      "Epoch: 13/15, Batch: 100, Total loss: 0.09, Recon loss: 0.02, Codebook loss: 0.06, Commitment loss: 0.06\n",
      "Epoch: 13/15, Batch: 200, Total loss: 0.09, Recon loss: 0.02, Codebook loss: 0.06, Commitment loss: 0.06\n",
      "Epoch: 13/15, Batch: 300, Total loss: 0.09, Recon loss: 0.02, Codebook loss: 0.06, Commitment loss: 0.06\n",
      "Epoch: 13/15, Batch: 400, Total loss: 0.09, Recon loss: 0.02, Codebook loss: 0.06, Commitment loss: 0.06\n",
      "Epoch: 13/15, Total loss: 0.05, Recon loss: 0.01, Codebook loss: 0.03, Commitment loss: 0.03\n",
      "Epoch: 14/15, Batch: 0, Total loss: 0.09, Recon loss: 0.02, Codebook loss: 0.06, Commitment loss: 0.06\n",
      "Epoch: 14/15, Batch: 100, Total loss: 0.09, Recon loss: 0.02, Codebook loss: 0.06, Commitment loss: 0.06\n",
      "Epoch: 14/15, Batch: 200, Total loss: 0.09, Recon loss: 0.02, Codebook loss: 0.06, Commitment loss: 0.06\n",
      "Epoch: 14/15, Batch: 300, Total loss: 0.09, Recon loss: 0.02, Codebook loss: 0.06, Commitment loss: 0.06\n",
      "Epoch: 14/15, Batch: 400, Total loss: 0.09, Recon loss: 0.02, Codebook loss: 0.06, Commitment loss: 0.06\n",
      "Epoch: 14/15, Total loss: 0.05, Recon loss: 0.01, Codebook loss: 0.03, Commitment loss: 0.03\n",
      "Epoch: 15/15, Batch: 0, Total loss: 0.09, Recon loss: 0.02, Codebook loss: 0.06, Commitment loss: 0.06\n",
      "Epoch: 15/15, Batch: 100, Total loss: 0.09, Recon loss: 0.02, Codebook loss: 0.06, Commitment loss: 0.06\n",
      "Epoch: 15/15, Batch: 200, Total loss: 0.09, Recon loss: 0.02, Codebook loss: 0.06, Commitment loss: 0.06\n",
      "Epoch: 15/15, Batch: 300, Total loss: 0.09, Recon loss: 0.02, Codebook loss: 0.05, Commitment loss: 0.05\n",
      "Epoch: 15/15, Batch: 400, Total loss: 0.09, Recon loss: 0.02, Codebook loss: 0.06, Commitment loss: 0.06\n",
      "Epoch: 15/15, Total loss: 0.05, Recon loss: 0.01, Codebook loss: 0.03, Commitment loss: 0.03\n"
     ]
    }
   ],
   "source": [
    "vqvae_model = train_model(train_loader=train_loader, num_epochs=15, learning_rate=2e-4, codebook_size=4, codebook_embedding_dim=2)"
   ]
  },
  {
   "cell_type": "code",
   "execution_count": 18,
   "metadata": {},
   "outputs": [],
   "source": [
    "import random"
   ]
  },
  {
   "cell_type": "code",
   "execution_count": 54,
   "metadata": {},
   "outputs": [
    {
     "name": "stdout",
     "output_type": "stream",
     "text": [
      "torch.Size([1, 1, 32, 32])\n"
     ]
    },
    {
     "data": {
      "image/png": "[encoded data removed]",
      "text/plain": [
       "<Figure size 640x480 with 1 Axes>"
      ]
     },
     "metadata": {},
     "output_type": "display_data"
    },
    {
     "name": "stdout",
     "output_type": "stream",
     "text": [
      "None\n"
     ]
    }
   ],
   "source": [
    "# random recon\n",
    "def random_generate(codebook_size):\n",
    "    z_idxes = torch.tensor([random.choice([0,1,2,3]) for _ in range(64)], dtype=torch.int32)\n",
    "    z_embeddings = vqvae_model.embedding(z_idxes)\n",
    "    z_embeddings = z_embeddings.reshape([1,8,8,2]).permute(0,3,1,2)\n",
    "    x_decoded = vqvae_model.decode(z_embeddings)\n",
    "    print(x_decoded.shape)\n",
    "    digit = x_decoded.detach().cpu().reshape(32, 32) # reshape vector to 2d array\n",
    "    plt.imshow(digit, cmap='gray')\n",
    "    plt.axis('off')\n",
    "    plt.show()\n",
    "\n",
    "for i in range(1):\n",
    "    print(random_generate(codebook_size=4))"
   ]
  },
  {
   "cell_type": "code",
   "execution_count": 78,
   "metadata": {},
   "outputs": [
    {
     "data": {
      "image/png": "[encoded data removed]",
      "text/plain": [
       "<Figure size 200x200 with 8 Axes>"
      ]
     },
     "metadata": {},
     "output_type": "display_data"
    },
    {
     "data": {
      "image/png": "[encoded data removed]",
      "text/plain": [
       "<Figure size 200x200 with 8 Axes>"
      ]
     },
     "metadata": {},
     "output_type": "display_data"
    }
   ],
   "source": [
    "# Reconstruction\n",
    "def generate():\n",
    "    num_samples = 4\n",
    "    image = next(iter(test_loader))\n",
    "    width = int(num_samples**0.5)\n",
    "    sample_images = torch.Tensor([image[0][i,0].numpy() for i in range(num_samples)])\n",
    "\n",
    "    # print origin images\n",
    "    fig = plt.figure(figsize=(width, width))\n",
    "    grid = ImageGrid(fig, 111, nrows_ncols=(width, width), axes_pad=0.1)\n",
    "    for ax, im in zip(grid, sample_images):\n",
    "        ax.imshow(im, cmap='gray')\n",
    "        ax.axis('off')\n",
    "\n",
    "    sample_images = sample_images[:,None,:,:]\n",
    "    quant_input = vqvae_model.encode(sample_images)\n",
    "    quant_out, _, _, _ = vqvae_model.vector_quantize(quant_input)\n",
    "    recon_images = vqvae_model.decode(quant_out)\n",
    "    recon_images = recon_images.detach().cpu().reshape(num_samples, 28, 28) # reshape vector to 2d array\n",
    "\n",
    "    # print recon images\n",
    "    fig = plt.figure(figsize=(width, width))\n",
    "    grid = ImageGrid(fig, 111, nrows_ncols=(width, width), axes_pad=0.1)\n",
    "    for ax, im in zip(grid, recon_images):\n",
    "        ax.imshow(im, cmap='gray')\n",
    "        ax.axis('off')\n",
    "\n",
    "    plt.show()\n",
    "\n",
    "generate()"
   ]
  }
 ],
 "metadata": {
  "kernelspec": {
   "display_name": "Python 3",
   "language": "python",
   "name": "python3"
  },
  "language_info": {
   "codemirror_mode": {
    "name": "ipython",
    "version": 3
   },
   "file_extension": ".py",
   "mimetype": "text/x-python",
   "name": "python",
   "nbconvert_exporter": "python",
   "pygments_lexer": "ipython3",
   "version": "3.7.3"
  }
 },
 "nbformat": 4,
 "nbformat_minor": 2
}
